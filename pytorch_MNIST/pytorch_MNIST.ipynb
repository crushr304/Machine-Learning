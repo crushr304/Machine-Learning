{
 "cells": [
  {
   "cell_type": "markdown",
   "metadata": {},
   "source": [
    "https://blog.csdn.net/weixin_44613063/article/details/90815082"
   ]
  },
  {
   "cell_type": "markdown",
   "metadata": {},
   "source": [
    "### 导入相关库"
   ]
  },
  {
   "cell_type": "code",
   "execution_count": 2,
   "metadata": {},
   "outputs": [],
   "source": [
    "import torch\n",
    "import torch.nn as nn\n",
    "import torch.nn.functional as F\n",
    "import torch.optim as optim\n",
    "from torchvision import datasets, transforms\n",
    "import torchvision\n",
    "from torch.autograd import Variable\n",
    "from torch.utils.data import DataLoader\n",
    "import cv2"
   ]
  },
  {
   "cell_type": "markdown",
   "metadata": {},
   "source": [
    "### 获取训练集和测试集"
   ]
  },
  {
   "cell_type": "code",
   "execution_count": 3,
   "metadata": {},
   "outputs": [],
   "source": [
    "transform = transforms.Compose([transforms.ToTensor(), transforms.Normalize([0.5], [0.5])])\n",
    "\n",
    "# 加载训练集\n",
    "train_dataset = datasets.MNIST(root='./data/',\n",
    "                               train=True,\n",
    "                               transform=transform,\n",
    "                               )\n",
    "# 加载测试集\n",
    "test_dataset = datasets.MNIST(root='./data/',\n",
    "                              train=False,\n",
    "                              transform=transform,\n",
    "                              )"
   ]
  },
  {
   "cell_type": "markdown",
   "metadata": {},
   "source": [
    "### 数据装载和预览"
   ]
  },
  {
   "cell_type": "code",
   "execution_count": 4,
   "metadata": {},
   "outputs": [],
   "source": [
    "# dataset 参数用于指定我们载入的数据集名称\n",
    "# batch_size参数设置了每个包中的图片数据个数\n",
    "# 在装载的过程会将数据随机打乱顺序并进打包 shuffle\n",
    "\n",
    "# 装载训练集\n",
    "train_loader = torch.utils.data.DataLoader(dataset=train_dataset,\n",
    "                                           batch_size=64,\n",
    "                                           shuffle=True)\n",
    "# 装载测试集\n",
    "test_loader = torch.utils.data.DataLoader(dataset=test_dataset,\n",
    "                                          batch_size=64,\n",
    "                                          shuffle=True)"
   ]
  },
  {
   "cell_type": "code",
   "execution_count": 6,
   "metadata": {},
   "outputs": [
    {
     "name": "stdout",
     "output_type": "stream",
     "text": [
      "tensor([1, 8, 6, 7, 9, 0, 8, 9, 4, 8, 9, 6, 8, 8, 2, 6, 6, 6, 3, 3, 0, 1, 0, 3,\n",
      "        4, 2, 3, 5, 5, 9, 2, 0, 5, 5, 8, 6, 8, 4, 7, 5, 3, 1, 6, 7, 4, 5, 7, 0,\n",
      "        4, 3, 4, 5, 6, 3, 9, 6, 2, 8, 7, 2, 0, 0, 1, 3])\n"
     ]
    }
   ],
   "source": [
    "# 实现单张图片可视化\n",
    "\n",
    "images, labels = next(iter(train_loader))\n",
    "img = torchvision.utils.make_grid(images)\n",
    "\n",
    "img = img.numpy().transpose(1, 2, 0)\n",
    "std = [0.5, 0.5, 0.5]\n",
    "mean = [0.5, 0.5, 0.5]\n",
    "img = img * std + mean\n",
    "\n",
    "print(labels)\n",
    "cv2.imshow('train_data', img)\n",
    "key_pressed = cv2.waitKey(0)\n",
    "\n",
    "if key_pressed == 27:     # 键盘上Esc键的键值\n",
    "    cv2.destroyAllWindows() "
   ]
  },
  {
   "cell_type": "markdown",
   "metadata": {},
   "source": [
    "### 搭建神经网络"
   ]
  },
  {
   "cell_type": "code",
   "execution_count": 7,
   "metadata": {},
   "outputs": [],
   "source": [
    "# 卷积层使用 torch.nn.Conv2d\n",
    "# 激活层使用 torch.nn.ReLU\n",
    "# 池化层使用 torch.nn.MaxPool2d\n",
    "# 全连接层使用 torch.nn.Linear\n",
    "\n",
    "\n",
    "class Model(torch.nn.Module):\n",
    "    def __init__(self):\n",
    "        super(Model,self).__init__()\n",
    "        self.conv1 = torch.nn.Sequential(torch.nn.Conv2d(1,64,kernel_size=3,stride=1,padding=1),\n",
    "                                         torch.nn.ReLU(),\n",
    "                                         torch.nn.Conv2d(64,128,kernel_size=3,stride=1,padding=1),\n",
    "                                         torch.nn.ReLU(),\n",
    "                                         torch.nn.MaxPool2d(stride=2,kernel_size=2))\n",
    "        self.dense = torch.nn.Sequential(torch.nn.Linear(14*14*128,1024),\n",
    "                                         torch.nn.ReLU(),\n",
    "                                         torch.nn.Dropout(p=0.5),\n",
    "                                         torch.nn.Linear(1024,10))\n",
    "    def forward(self,x):\n",
    "        x = self.conv1(x)\n",
    "        x = x.view(-1,14*14*128)\n",
    "        x = self.dense(x)\n",
    "        return x"
   ]
  },
  {
   "cell_type": "code",
   "execution_count": 8,
   "metadata": {},
   "outputs": [],
   "source": [
    "model = Model()\n",
    "if torch.cuda.is_available():\n",
    "    model.cuda()#将所有的模型参数移动到GPU上\n",
    "cost = torch.nn.CrossEntropyLoss()\n",
    "optimzer = torch.optim.Adam(model.parameters())"
   ]
  },
  {
   "cell_type": "code",
   "execution_count": 9,
   "metadata": {},
   "outputs": [
    {
     "name": "stdout",
     "output_type": "stream",
     "text": [
      "Model(\n",
      "  (conv1): Sequential(\n",
      "    (0): Conv2d(1, 64, kernel_size=(3, 3), stride=(1, 1), padding=(1, 1))\n",
      "    (1): ReLU()\n",
      "    (2): Conv2d(64, 128, kernel_size=(3, 3), stride=(1, 1), padding=(1, 1))\n",
      "    (3): ReLU()\n",
      "    (4): MaxPool2d(kernel_size=2, stride=2, padding=0, dilation=1, ceil_mode=False)\n",
      "  )\n",
      "  (dense): Sequential(\n",
      "    (0): Linear(in_features=25088, out_features=1024, bias=True)\n",
      "    (1): ReLU()\n",
      "    (2): Dropout(p=0.5, inplace=False)\n",
      "    (3): Linear(in_features=1024, out_features=10, bias=True)\n",
      "  )\n",
      ")\n"
     ]
    }
   ],
   "source": [
    "print(model)"
   ]
  },
  {
   "cell_type": "code",
   "execution_count": 14,
   "metadata": {},
   "outputs": [
    {
     "name": "stdout",
     "output_type": "stream",
     "text": [
      "Epoch0/5\n",
      "----------\n"
     ]
    },
    {
     "name": "stderr",
     "output_type": "stream",
     "text": [
      "..\\aten\\src\\ATen\\native\\BinaryOps.cpp:81: UserWarning: Integer division of tensors using div or / is deprecated, and in a future release div will perform true division as in Python 3. Use true_divide or floor_divide (// in Python) instead.\n"
     ]
    },
    {
     "name": "stdout",
     "output_type": "stream",
     "text": [
      "Loss is :0.0020,Train Accuracy is:96.0000%,Test Accuracy is:97.0000\n",
      "Epoch1/5\n",
      "----------\n",
      "Loss is :0.0008,Train Accuracy is:98.0000%,Test Accuracy is:98.0000\n",
      "Epoch2/5\n",
      "----------\n",
      "Loss is :0.0005,Train Accuracy is:98.0000%,Test Accuracy is:98.0000\n",
      "Epoch3/5\n",
      "----------\n",
      "Loss is :0.0004,Train Accuracy is:99.0000%,Test Accuracy is:98.0000\n",
      "Epoch4/5\n",
      "----------\n",
      "Loss is :0.0003,Train Accuracy is:99.0000%,Test Accuracy is:98.0000\n"
     ]
    }
   ],
   "source": [
    "#迭代次数\n",
    "n_epochs = 5\n",
    " \n",
    "for epoch in range(n_epochs):\n",
    "    running_loss = 0.0\n",
    "    running_correct = 0\n",
    "    print(\"Epoch{}/{}\".format(epoch,n_epochs))\n",
    "    print(\"-\"*10)\n",
    "    \n",
    "    for data in train_loader:\n",
    "        #print(\"train ing\")\n",
    "        X_train,y_train = data\n",
    "        #有GPU加下面这行，没有不用加\n",
    "        X_train,y_train = X_train.cuda(),y_train.cuda()\n",
    "        X_train,y_train = Variable(X_train),Variable(y_train)\n",
    "        outputs = model(X_train)\n",
    "        _,pred = torch.max(outputs.data,1)\n",
    "        optimzer.zero_grad()\n",
    "        loss = cost(outputs,y_train)\n",
    "        \n",
    "        loss.backward()\n",
    "        optimzer.step()\n",
    "        running_loss += loss.data\n",
    "        running_correct += torch.sum(pred == y_train.data)\n",
    "        \n",
    "    testing_correct = 0\n",
    "    for data in test_loader:\n",
    "        X_test,y_test = data\n",
    "        #有GPU加下面这行，没有不用加\n",
    "        X_test,y_test = X_test.cuda(),y_test.cuda()\n",
    "        X_test,y_test = Variable(X_test),Variable(y_test)\n",
    "        outputs = model(X_test)\n",
    "        _,pred = torch.max(outputs,1)\n",
    "        testing_correct += torch.sum(pred == y_test.data)\n",
    "        \n",
    "    print(\"Loss is :{:.4f},Train Accuracy is:{:.4f}%,Test Accuracy is:{:.4f}\".format(running_loss/len(train_dataset),\n",
    "                                                                                     100*running_correct/len(train_dataset),\n",
    "                                                                                     100*testing_correct/len(test_dataset)))"
   ]
  },
  {
   "cell_type": "code",
   "execution_count": null,
   "metadata": {},
   "outputs": [],
   "source": []
  }
 ],
 "metadata": {
  "kernelspec": {
   "display_name": "Python [conda env:pytorch]",
   "language": "python",
   "name": "conda-env-pytorch-py"
  }
 },
 "nbformat": 4,
 "nbformat_minor": 2
}
